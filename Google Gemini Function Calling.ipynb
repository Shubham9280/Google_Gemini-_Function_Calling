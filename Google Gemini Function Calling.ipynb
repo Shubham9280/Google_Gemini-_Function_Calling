{
  "cells": [
    {
      "cell_type": "code",
      "execution_count": 2,
      "id": "ZEqVzAVaOqeQnjBcrr1S8grh",
      "metadata": {
        "colab": {
          "base_uri": "https://localhost:8080/"
        },
        "executionInfo": {
          "elapsed": 1201,
          "status": "ok",
          "timestamp": 1728386623196,
          "user": {
            "displayName": "",
            "userId": ""
          },
          "user_tz": -330
        },
        "id": "ZEqVzAVaOqeQnjBcrr1S8grh",
        "outputId": "462a251d-c54b-4a4a-d178-dfc1c700cc61",
        "tags": []
      },
      "outputs": [],
      "source": [
        "#!gcloud config list"
      ]
    },
    {
      "cell_type": "code",
      "execution_count": 2,
      "id": "jJiyvl2toua_",
      "metadata": {
        "executionInfo": {
          "elapsed": 7466,
          "status": "ok",
          "timestamp": 1728386632140,
          "user": {
            "displayName": "",
            "userId": ""
          },
          "user_tz": -330
        },
        "id": "jJiyvl2toua_"
      },
      "outputs": [],
      "source": [
        "from vertexai.preview.generative_models import (\n",
        "    FunctionDeclaration,\n",
        "    GenerativeModel,\n",
        "    Part,\n",
        "    Tool,\n",
        ")\n",
        "from google.cloud import aiplatform\n",
        "import os\n",
        "import json\n",
        "import vertexai\n",
        "from google.cloud import aiplatform"
      ]
    },
    {
      "cell_type": "code",
      "execution_count": 3,
      "id": "l5JpSL2noyV_",
      "metadata": {
        "executionInfo": {
          "elapsed": 611,
          "status": "ok",
          "timestamp": 1728386636667,
          "user": {
            "displayName": "",
            "userId": ""
          },
          "user_tz": -330
        },
        "id": "l5JpSL2noyV_"
      },
      "outputs": [],
      "source": [
        "os.environ[\"GOOGLE_APPLICATION_CREDENTIALS\"]=\"/content/abc.json\"\n",
        "\n",
        "PROJECT_ID = \"[abc]\"  # @param {type:\"string\"}\n",
        "LOCATION = \"us-central1\"  # @param {type:\"string\"}\n",
        "vertexai.init(project=PROJECT_ID, location=LOCATION)"
      ]
    },
    {
      "cell_type": "code",
      "execution_count": 4,
      "id": "_1XqrP3opAAx",
      "metadata": {
        "executionInfo": {
          "elapsed": 593,
          "status": "ok",
          "timestamp": 1728386638912,
          "user": {
            "displayName": "",
            "userId": ""
          },
          "user_tz": -330
        },
        "id": "_1XqrP3opAAx"
      },
      "outputs": [],
      "source": [
        "PROJECT = 'abc'\n",
        "REGION = 'us-central1'\n",
        "aiplatform.init(project = PROJECT, location = REGION)\n",
        "model_list = aiplatform.Model.list()"
      ]
    },
    {
      "cell_type": "code",
      "execution_count": 5,
      "id": "cx4trlc1pd1K",
      "metadata": {
        "executionInfo": {
          "elapsed": 649,
          "status": "ok",
          "timestamp": 1728386640951,
          "user": {
            "displayName": "",
            "userId": ""
          },
          "user_tz": -330
        },
        "id": "cx4trlc1pd1K"
      },
      "outputs": [],
      "source": [
        "tools = Tool(function_declarations=[\n",
        "    FunctionDeclaration(name= 'extract_software_names',\n",
        "            description= 'Extracts the software names from the job description. Return as a list of strings',\n",
        "            parameters= {\n",
        "                'type': 'object',\n",
        "                'properties': {\n",
        "                    'software_names': {\n",
        "                        'type': 'array',\n",
        "                        'items': {\n",
        "                            'type': 'string'\n",
        "                        },\n",
        "                        'description': 'List of software application names.'\n",
        "                    }\n",
        "                },\n",
        "                'required': ['software_names']\n",
        "          }\n",
        "    )\n",
        "])"
      ]
    },
    {
      "cell_type": "code",
      "execution_count": 6,
      "id": "DgU3q729pguT",
      "metadata": {
        "executionInfo": {
          "elapsed": 3,
          "status": "ok",
          "timestamp": 1728386642730,
          "user": {
            "displayName": "",
            "userId": ""
          },
          "user_tz": -330
        },
        "id": "DgU3q729pguT"
      },
      "outputs": [],
      "source": [
        "model = GenerativeModel(\"gemini-1.5-flash\",\n",
        "                        generation_config={\"temperature\": 0},\n",
        "                        tools=[tools])"
      ]
    },
    {
      "cell_type": "code",
      "execution_count": 7,
      "id": "FE-TBIOHpkBa",
      "metadata": {
        "colab": {
          "base_uri": "https://localhost:8080/"
        },
        "executionInfo": {
          "elapsed": 32074,
          "status": "ok",
          "timestamp": 1728386676308,
          "user": {
            "displayName": "",
            "userId": ""
          },
          "user_tz": -330
        },
        "id": "FE-TBIOHpkBa",
        "outputId": "c3df1e7b-d822-4912-bc8f-b4c0d86e4ed3"
      },
      "outputs": [
        {
          "name": "stdout",
          "output_type": "stream",
          "text": [
            "Minimum of 3 years' experience in data science and machine learning Bachelor’s degree in Computer Science, Data Science, or related fields Proficiency in Python and various machine learning frameworks like Keras, PyTorch, Transformers Strong background in working with natural language processing, computer vision, and large language models Excellent communication and teamwork capabilities Capability to work independently and collaboratively B2+ proficiency in English\n",
            "['Python', 'Keras', 'PyTorch', 'Transformers']\n"
          ]
        }
      ],
      "source": [
        "prompt = input()\n",
        "chat = model.start_chat()\n",
        "response = chat.send_message(prompt)\n",
        "function_call = response.candidates[0].content.parts[0].function_call\n",
        "function_handlers = [\"extract_software_names\"]\n",
        "if function_call.name in function_handlers:\n",
        "    function_name = function_call.name\n",
        "    args = {key: value for key, value in function_call.args.items()}\n",
        "print(args[\"software_names\"])"
      ]
    },
    {
      "cell_type": "code",
      "execution_count": null,
      "id": "iCBuFPEgtNiO",
      "metadata": {
        "id": "iCBuFPEgtNiO"
      },
      "outputs": [],
      "source": []
    },
    {
      "cell_type": "code",
      "execution_count": null,
      "id": "Eq-3AV22te6N",
      "metadata": {
        "id": "Eq-3AV22te6N"
      },
      "outputs": [],
      "source": []
    },
    {
      "cell_type": "code",
      "execution_count": null,
      "id": "yiBLzZvKtNry",
      "metadata": {
        "id": "yiBLzZvKtNry"
      },
      "outputs": [],
      "source": []
    },
    {
      "cell_type": "code",
      "execution_count": null,
      "id": "tZcUEI4UufU_",
      "metadata": {
        "id": "tZcUEI4UufU_"
      },
      "outputs": [],
      "source": []
    },
    {
      "cell_type": "code",
      "execution_count": null,
      "id": "H9nWKEZbufds",
      "metadata": {
        "id": "H9nWKEZbufds"
      },
      "outputs": [],
      "source": []
    },
    {
      "cell_type": "code",
      "execution_count": null,
      "id": "wZ_gVLOEufh6",
      "metadata": {
        "id": "wZ_gVLOEufh6"
      },
      "outputs": [],
      "source": []
    },
    {
      "cell_type": "code",
      "execution_count": null,
      "id": "FqpJwctjufnk",
      "metadata": {
        "id": "FqpJwctjufnk"
      },
      "outputs": [],
      "source": []
    },
    {
      "cell_type": "code",
      "execution_count": null,
      "id": "_2XHg3SktNw-",
      "metadata": {
        "id": "_2XHg3SktNw-"
      },
      "outputs": [],
      "source": []
    },
    {
      "cell_type": "code",
      "execution_count": null,
      "id": "6CM5GuEVtN8f",
      "metadata": {
        "id": "6CM5GuEVtN8f"
      },
      "outputs": [],
      "source": []
    },
    {
      "cell_type": "code",
      "execution_count": null,
      "id": "uKApvr9BsI75",
      "metadata": {
        "id": "uKApvr9BsI75"
      },
      "outputs": [],
      "source": []
    },
    {
      "cell_type": "code",
      "execution_count": null,
      "id": "OnqFI68yr2X7",
      "metadata": {
        "id": "OnqFI68yr2X7"
      },
      "outputs": [],
      "source": []
    }
  ],
  "metadata": {
    "colab": {
      "name": "shubhammurkute80 (Oct 8, 2024, 3:47:21 PM)",
      "provenance": []
    },
    "kernelspec": {
      "display_name": "base",
      "language": "python",
      "name": "python3"
    },
    "language_info": {
      "codemirror_mode": {
        "name": "ipython",
        "version": 3
      },
      "file_extension": ".py",
      "mimetype": "text/x-python",
      "name": "python",
      "nbconvert_exporter": "python",
      "pygments_lexer": "ipython3",
      "version": "3.11.5"
    }
  },
  "nbformat": 4,
  "nbformat_minor": 5
}
